{
 "cells": [
  {
   "cell_type": "markdown",
   "id": "b0f3826e",
   "metadata": {},
   "source": [
    "Top words\n",
    "\n",
    "Vocabulary\n",
    "\n",
    "Amount of profanity"
   ]
  },
  {
   "cell_type": "markdown",
   "id": "a35ce1e3",
   "metadata": {},
   "source": [
    "Data\n",
    "Aggregrate\n",
    "Visualize\n",
    "Insights"
   ]
  },
  {
   "cell_type": "markdown",
   "id": "daf6d75b",
   "metadata": {},
   "source": [
    "preprocessing - remove stop words\n",
    "top 30 words by each comedian\n",
    "if all are using the word add it as stop word\n",
    "wordcloud - visualize word counts for NLP"
   ]
  }
 ],
 "metadata": {
  "kernelspec": {
   "display_name": "Python 3",
   "language": "python",
   "name": "python3"
  },
  "language_info": {
   "codemirror_mode": {
    "name": "ipython",
    "version": 3
   },
   "file_extension": ".py",
   "mimetype": "text/x-python",
   "name": "python",
   "nbconvert_exporter": "python",
   "pygments_lexer": "ipython3",
   "version": "3.8.8"
  }
 },
 "nbformat": 4,
 "nbformat_minor": 5
}
