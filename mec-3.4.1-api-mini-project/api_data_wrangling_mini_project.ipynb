{
 "cells": [
  {
   "cell_type": "markdown",
   "metadata": {},
   "source": [
    "This exercise will require you to pull some data from https://data.nasdaq.com/ (formerly Quandl API)."
   ]
  },
  {
   "cell_type": "markdown",
   "metadata": {},
   "source": [
    "As a first step, you will need to register a free account on the https://data.nasdaq.com/ website."
   ]
  },
  {
   "cell_type": "markdown",
   "metadata": {},
   "source": [
    "After you register, you will be provided with a unique API key, that you should store:\n",
    "\n",
    "*Note*: Use a `.env` file and put your key in there and `python-dotenv` to access it in this notebook. \n",
    "\n",
    "The code below uses a key that was used when generating this project but has since been deleted. Never submit your keys to source control. There is a `.env-example` file in this repository to illusrtate what you need. Copy that to a file called `.env` and use your own api key in that `.env` file. Make sure you also have a `.gitignore` file with a line for `.env` added to it. \n",
    "\n",
    "The standard Python gitignore is [here](https://github.com/github/gitignore/blob/master/Python.gitignore) you can just copy that. "
   ]
  },
  {
   "cell_type": "code",
   "execution_count": 4,
   "metadata": {},
   "outputs": [],
   "source": [
    "# get api key from your .env file\n",
    "import os\n",
    "from dotenv import load_dotenv  # if missing this module, simply run `pip install python-dotenv`\n",
    "\n",
    "load_dotenv()\n",
    "API_KEY = os.getenv('NASDAQ_API_KEY')\n"
   ]
  },
  {
   "cell_type": "markdown",
   "metadata": {},
   "source": [
    "Nasdaq Data has a large number of data sources, but, unfortunately, most of them require a Premium subscription. Still, there are also a good number of free datasets."
   ]
  },
  {
   "cell_type": "markdown",
   "metadata": {},
   "source": [
    "For this mini project, we will focus on equities data from the Frankfurt Stock Exhange (FSE), which is available for free. We'll try and analyze the stock prices of a company called Carl Zeiss Meditec, which manufactures tools for eye examinations, as well as medical lasers for laser eye surgery: https://www.zeiss.com/meditec/int/home.html. The company is listed under the stock ticker AFX_X."
   ]
  },
  {
   "cell_type": "markdown",
   "metadata": {},
   "source": [
    "You can find the detailed Nasdaq Data API instructions here: https://docs.data.nasdaq.com/docs/in-depth-usage"
   ]
  },
  {
   "cell_type": "markdown",
   "metadata": {},
   "source": [
    "While there is a dedicated Python package for connecting to the Nasdaq API, we would prefer that you use the *requests* package, which can be easily downloaded using *pip* or *conda*. You can find the documentation for the package here: http://docs.python-requests.org/en/master/ "
   ]
  },
  {
   "cell_type": "markdown",
   "metadata": {},
   "source": [
    "Finally, apart from the *requests* package, you are encouraged to not use any third party Python packages, such as *pandas*, and instead focus on what's available in the Python Standard Library (the *collections* module might come in handy: https://pymotw.com/3/collections/).\n",
    "Also, since you won't have access to DataFrames, you are encouraged to us Python's native data structures - preferably dictionaries, though some questions can also be answered using lists.\n",
    "You can read more on these data structures here: https://docs.python.org/3/tutorial/datastructures.html"
   ]
  },
  {
   "cell_type": "markdown",
   "metadata": {},
   "source": [
    "Keep in mind that the JSON responses you will be getting from the API map almost one-to-one to Python's dictionaries. Unfortunately, they can be very nested, so make sure you read up on indexing dictionaries in the documentation provided above."
   ]
  },
  {
   "cell_type": "code",
   "execution_count": 22,
   "metadata": {},
   "outputs": [],
   "source": [
    "# First, import the relevant modules\n",
    "import requests\n"
   ]
  },
  {
   "cell_type": "markdown",
   "metadata": {},
   "source": [
    "Note: API's can change a bit with each version, for this exercise it is reccomended to use the nasdaq api at `https://data.nasdaq.com/api/v3/`. This is the same api as what used to be quandl so `https://www.quandl.com/api/v3/` should work too.\n",
    "\n",
    "Hint: We are looking for the `AFX_X` data on the `datasets/FSE/` dataset."
   ]
  },
  {
   "cell_type": "code",
   "execution_count": 32,
   "metadata": {},
   "outputs": [
    {
     "name": "stdout",
     "output_type": "stream",
     "text": [
      "200 application/json; charset=utf-8\n"
     ]
    }
   ],
   "source": [
    "# Now, call the Nasdaq API and pull out a small sample of the data (only one day) to get a glimpse\n",
    "# into the JSON structure that will be returned\n",
    "r = requests.get('https://data.nasdaq.com/api/v3/datasets/FSE/AFX_X/data.json?start_date=2017-01-01&end_date=2017-12-31&api_key='+API_KEY)\n",
    "print(r.status_code, r.headers['content-type'])"
   ]
  },
  {
   "cell_type": "code",
   "execution_count": 36,
   "metadata": {},
   "outputs": [
    {
     "data": {
      "text/plain": [
       "(['Date',\n",
       "  'Open',\n",
       "  'High',\n",
       "  'Low',\n",
       "  'Close',\n",
       "  'Change',\n",
       "  'Traded Volume',\n",
       "  'Turnover',\n",
       "  'Last Price of the Day',\n",
       "  'Daily Traded Units',\n",
       "  'Daily Turnover'],\n",
       " ['2017-12-29',\n",
       "  51.76,\n",
       "  51.94,\n",
       "  51.45,\n",
       "  51.76,\n",
       "  None,\n",
       "  34640.0,\n",
       "  1792304.0,\n",
       "  None,\n",
       "  None,\n",
       "  None])"
      ]
     },
     "execution_count": 36,
     "metadata": {},
     "output_type": "execute_result"
    }
   ],
   "source": [
    "# Inspect the JSON structure of the object you created, and take note of how nested it is,\n",
    "# as well as the overall structure\n",
    "r.json()['dataset_data']['column_names'], r.json()['dataset_data']['data'][0]"
   ]
  },
  {
   "cell_type": "markdown",
   "metadata": {},
   "source": [
    "These are your tasks for this mini project:\n",
    "\n",
    "1. Collect data from the Franfurt Stock Exchange, for the ticker AFX_X, for the whole year 2017 (keep in mind that the date format is YYYY-MM-DD).\n",
    "2. Convert the returned JSON object into a Python dictionary.\n",
    "3. Calculate what the highest and lowest opening prices were for the stock in this period.\n",
    "4. What was the largest change in any one day (based on High and Low price)?\n",
    "5. What was the largest change between any two days (based on Closing Price)?\n",
    "6. What was the average daily trading volume during this year?\n",
    "7. (Optional) What was the median trading volume during this year. (Note: you may need to implement your own function for calculating the median.)"
   ]
  },
  {
   "cell_type": "code",
   "execution_count": 107,
   "metadata": {},
   "outputs": [
    {
     "name": "stdout",
     "output_type": "stream",
     "text": [
      "####RESULTS####\n",
      "For the year 2017:\n",
      "  Highest opening price:  53.11 \n",
      "  Lowest opening price:  34.0 \n",
      "  Largest change in any one day:  2.8100000000000023 \n",
      "  Largest change between any two working days based on closing price:  35.8 \n",
      "  Average daily trading volume:  89124.33725490196 \n",
      "  Median trading volume:  76286.0\n"
     ]
    }
   ],
   "source": [
    "import heapq\n",
    "\n",
    "data = r.json()['dataset_data']\n",
    "columns = data['column_names']\n",
    "#print(columns)\n",
    "\n",
    "highest_open_price = 0\n",
    "lowest_open_price = 100000\n",
    "largest_change = 0\n",
    "total_volume = 0\n",
    "total_days = 0\n",
    "trading_volume = []\n",
    "prev_close = 0\n",
    "largest_change2 = 0\n",
    "minheap = []\n",
    "maxheap = []\n",
    "middle = len(data['data'])//2\n",
    "\n",
    "for entry in data['data'][::-1]:\n",
    "    if entry[1] and entry[1]>highest_open_price: highest_open_price = entry[1]\n",
    "    if entry[1] and entry[1]<lowest_open_price: lowest_open_price = entry[1]\n",
    "    temp = entry[2]-entry[3]\n",
    "    if temp > largest_change:  largest_change = temp\n",
    "    temp = entry[4]-prev_close\n",
    "    if temp > largest_change2:   largest_change2 = temp\n",
    "    prev_close = entry[4]\n",
    "    total_volume += entry[6]\n",
    "    total_days += 1\n",
    "    \n",
    "    if len(maxheap)<middle:     heapq.heappush(maxheap,-entry[6])\n",
    "    else:\n",
    "        if entry[6]>-maxheap[0]: heapq.heappush(minheap,entry[6])\n",
    "        else: heapq.heappush(minheap, -heapq.heappushpop(maxheap, -entry[6]))\n",
    "    \n",
    "    #trading_volume.append(entry[6])\n",
    "    #break\n",
    "    \n",
    "median = (minheap[0]-maxheap[0]) // 2 if len(minheap) == len(maxheap) else minheap[0]\n",
    "\n",
    "print('####RESULTS####')\n",
    "print('For the year 2017:\\n  Highest opening price: ',highest_open_price,'\\n  Lowest opening price: ',lowest_open_price,\n",
    "      '\\n  Largest change in any one day: ',largest_change,\n",
    "      '\\n  Largest change between any two working days based on closing price: ',largest_change2,\n",
    "     '\\n  Average daily trading volume: ',total_volume/total_days,\n",
    "     '\\n  Median trading volume: ',median)"
   ]
  },
  {
   "cell_type": "code",
   "execution_count": 105,
   "metadata": {},
   "outputs": [
    {
     "data": {
      "text/plain": [
       "(76286.0, 76286.0, 127, 255)"
      ]
     },
     "execution_count": 105,
     "metadata": {},
     "output_type": "execute_result"
    }
   ],
   "source": [
    "median, sorted(trading_volume)[middle], middle, len(trading_volume)"
   ]
  },
  {
   "cell_type": "code",
   "execution_count": 99,
   "metadata": {},
   "outputs": [
    {
     "data": {
      "text/plain": [
       "9"
      ]
     },
     "execution_count": 99,
     "metadata": {},
     "output_type": "execute_result"
    }
   ],
   "source": [
    "def median(x):\n",
    "    n = len(x)\n",
    "    minheap = []\n",
    "    maxheap = []\n",
    "    middle = n//2\n",
    "    \n",
    "    #maxheap, element, minheap\n",
    "    for num in x:\n",
    "        if len(maxheap)<middle:\n",
    "            heapq.heappush(maxheap,-num)\n",
    "        else:\n",
    "            if num>-maxheap[0]: heapq.heappush(minheap,num)\n",
    "            else: heapq.heappush(minheap, -heapq.heappushpop(maxheap, -num))\n",
    "    return (minheap[0]-maxheap[0]) // 2 if len(minheap) == len(maxheap) else minheap[0]\n",
    " \n",
    "median([1,5,9,11,52])"
   ]
  }
 ],
 "metadata": {
  "interpreter": {
   "hash": "4885f37acae9217c235118400878352aafa7b76e66df698a1f601374f86939a7"
  },
  "kernelspec": {
   "display_name": "Python 3",
   "language": "python",
   "name": "python3"
  },
  "language_info": {
   "codemirror_mode": {
    "name": "ipython",
    "version": 3
   },
   "file_extension": ".py",
   "mimetype": "text/x-python",
   "name": "python",
   "nbconvert_exporter": "python",
   "pygments_lexer": "ipython3",
   "version": "3.8.8"
  }
 },
 "nbformat": 4,
 "nbformat_minor": 4
}
